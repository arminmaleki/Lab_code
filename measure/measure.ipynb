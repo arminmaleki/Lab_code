{
 "cells": [
  {
   "cell_type": "code",
   "execution_count": 63,
   "metadata": {},
   "outputs": [],
   "source": [
    "import numpy as np\n",
    "import pandas as pd\n",
    "import usbtmc\n",
    "from matplotlib import pyplot as plt\n",
    "import struct\n",
    "import time\n",
    "from scipy.signal import find_peaks\n",
    "import ipywidgets as widgets\n",
    "from ipywidgets import interact_manual"
   ]
  },
  {
   "cell_type": "code",
   "execution_count": 83,
   "metadata": {},
   "outputs": [
    {
     "name": "stdout",
     "output_type": "stream",
     "text": [
      "Rigol Technologies,DS1102E,DS1ET194510708,00.04.02.01.00\n",
      "1048576\n"
     ]
    }
   ],
   "source": [
    "instr=usbtmc.Instrument(6833,1416)\n",
    "print(instr.ask(\"*IDN?\"))\n",
    "print(instr.ask(\":CHAN1:MEMD?\"))"
   ]
  },
  {
   "cell_type": "code",
   "execution_count": 60,
   "metadata": {},
   "outputs": [
    {
     "name": "stdout",
     "output_type": "stream",
     "text": [
      "Sample rate 5000000.000000\n",
      "voltage scale is 0.520000\n",
      "number of samples:524277.000000\n",
      "min freq(precision): 9.536943\n",
      "max freq: 4999990.463057\n",
      "         freq(Hz)  strength         dB  rel_freq\n",
      "30    3786.166473  0.270617 -31.352914  1.000000\n",
      "59    7562.796003  0.222305 -33.061004  1.997481\n",
      "87   11348.962476  0.170145 -35.383593  2.997481\n",
      "115  15135.128949  0.084295 -41.484012  3.997481\n",
      "223  30260.720955  0.055361 -45.135962  7.992443\n",
      "197  26474.554482  0.046973 -46.562945  6.992443\n",
      "143  18911.758479  0.041655 -47.606571  4.994962\n",
      "250  34046.887428  0.040898 -47.765929  8.992443\n",
      "171  22697.924952  0.036796 -48.684005  5.994962\n",
      "278  37823.516958  0.023043 -52.749216  9.989924\n"
     ]
    },
    {
     "name": "stderr",
     "output_type": "stream",
     "text": [
      "/usr/local/lib/python3.5/dist-packages/ipykernel_launcher.py:53: SettingWithCopyWarning: \n",
      "A value is trying to be set on a copy of a slice from a DataFrame.\n",
      "Try using .loc[row_indexer,col_indexer] = value instead\n",
      "\n",
      "See the caveats in the documentation: http://pandas.pydata.org/pandas-docs/stable/indexing.html#indexing-view-versus-copy\n"
     ]
    },
    {
     "data": {
      "text/plain": [
       "[<matplotlib.lines.Line2D at 0x6e712250>]"
      ]
     },
     "execution_count": 60,
     "metadata": {},
     "output_type": "execute_result"
    },
    {
     "data": {
      "image/png": "[encoded data removed]",
      "text/plain": [
       "<Figure size 432x288 with 1 Axes>"
      ]
     },
     "metadata": {
      "needs_background": "light"
     },
     "output_type": "display_data"
    }
   ],
   "source": [
    "def hamming(n,L):\n",
    "    return 0.54-0.46*np.cos(2*np.pi*n/(L-1))\n",
    "peak_distance=100 #Hz\n",
    "max_plot_v= 40 #kHz\n",
    "Z0=50.0 #ohm\n",
    "\n",
    "instr.ask(\":STOP\",wait_reply=False)\n",
    "\n",
    "samp_rate=np.float(instr.ask(':ACQ:SAMP?'))\n",
    "print('Sample rate %f'%samp_rate)\n",
    "time.sleep(0.1)\n",
    "volt_scale=np.float(instr.ask(':CHAN1:SCAL?'))\n",
    "print('voltage scale is %f'%volt_scale)\n",
    "time.sleep(0.1)\n",
    "#print('MemDepth %f'%instr.ask('ACQ:MEMD?'))\n",
    "time.sleep(2.0)\n",
    "\n",
    "# for some strange reasons we are better of if we :RUN first!\n",
    "instr.ask(\":RUN\",wait_reply=False)\n",
    "raw_data=instr.ask_raw(b\":WAV:DATA? CHAN1\")\n",
    "\n",
    "data=struct.unpack(\"B\"*len(raw_data),raw_data)\n",
    "\n",
    "#greeing rid of meta-data\n",
    "data=data[20:-1]\n",
    "\n",
    "#taking caring of Rigole craziness!\n",
    "data=(255-np.array(data))*volt_scale/25\n",
    "\n",
    "print('number of samples:%f'%len(data))\n",
    "total_acq_time=len(data)/samp_rate\n",
    "omega=np.arange(0,len(data))*2*np.pi/total_acq_time\n",
    "print (\"min freq(precision): %f\"%(omega[1]/2/np.pi))\n",
    "print (\"max freq: %f\"%(omega[-1]/2/np.pi))\n",
    "n_max_plot=np.int(max_plot_v/omega[1]*2*np.pi*1000)\n",
    "n_distance=np.int(peak_distance/omega[1]*2*np.pi)+1\n",
    "ham_mask=hamming(np.arange(0,len(data)),len(data))\n",
    "f=np.fft.fft(data*ham_mask)/len(data)\n",
    "f_max=np.abs(f[1:]).max()\n",
    "useful_f=np.abs(f[2:n_max_plot])\n",
    "useful_o=omega[2:n_max_plot]\n",
    "peaks=find_peaks(useful_f,distance=n_distance)[0]                \n",
    "plt.plot(useful_o/2/np.pi,useful_f*2) #*2 because we want \"peak\" voltages,sum of two + - freq components\n",
    "plt.xlabel('frq')\n",
    "plt.ylabel('Volt-p')\n",
    "plt.grid()\n",
    "#print(omega[peaks-1]/2/np.pi,useful_f[peaks])\n",
    "peaks_frame=pd.DataFrame(np.array([useful_o[peaks]/2/np.pi,useful_f\n",
    "                                   [peaks]*2,20*np.log10(np.sqrt(2.0/Z0)*useful_f[peaks])]).T,columns=['freq(Hz)','strength','dB'])\n",
    "peaks_frame=peaks_frame.sort_values(by=['strength'],ascending=False)\n",
    "#print(peaks_frame[:10])\n",
    "some_peaks=peaks_frame[:min(10,np.shape(peaks_frame)[0])]\n",
    "some_peaks['rel_freq']=some_peaks['freq(Hz)']/some_peaks['freq(Hz)'].iloc[0]\n",
    "print(some_peaks)\n",
    "plt.plot(some_peaks['freq(Hz)'],some_peaks['strength'],'*')"
   ]
  },
  {
   "cell_type": "code",
   "execution_count": 76,
   "metadata": {},
   "outputs": [
    {
     "data": {
      "text/plain": [
       "0"
      ]
     },
     "execution_count": 76,
     "metadata": {},
     "output_type": "execute_result"
    }
   ],
   "source": [
    "instr.ask(\":RUN\",wait_reply=0)"
   ]
  },
  {
   "cell_type": "code",
   "execution_count": 101,
   "metadata": {},
   "outputs": [
    {
     "data": {
      "application/vnd.jupyter.widget-view+json": {
       "model_id": "004edcfb989f4accb66e0bad659885c4",
       "version_major": 2,
       "version_minor": 0
      },
      "text/plain": [
       "interactive(children=(Dropdown(description='peak_distance', options=(10, 100, 1000, 10000), value=10), FloatSl…"
      ]
     },
     "metadata": {},
     "output_type": "display_data"
    }
   ],
   "source": [
    "@interact_manual\n",
    "def measure(peak_distance=[10,100,1000,10000],max_plot=(3,9,0.5),channel=[1,2]):\n",
    "    max_plot_v=10**max_plot/1000\n",
    "    Z0=50.0 #ohm\n",
    "    print(max_plot_v)\n",
    "    def hamming(n,L):\n",
    "        return 0.54-0.46*np.cos(2*np.pi*n/(L-1))\n",
    "    \n",
    "    instr.ask(\":STOP\",wait_reply=False)\n",
    "\n",
    "    samp_rate=np.float(instr.ask(':ACQ:SAMP?'))\n",
    "    print('Sample rate %f'%samp_rate)\n",
    "    time.sleep(0.1)\n",
    "    volt_scale=np.float(instr.ask(':CHAN'+str(channel)+':SCAL?'))\n",
    "    print('voltage scale is %f'%volt_scale)\n",
    "    time.sleep(0.1)\n",
    "    #print('MemDepth %f'%instr.ask('ACQ:MEMD?'))\n",
    "    time.sleep(2.0)\n",
    "\n",
    "    # for some strange reasons we are better of if we :RUN first!\n",
    "    instr.ask(\":RUN\",wait_reply=False)\n",
    "    raw_data=instr.ask_raw(bytes(\":WAV:DATA? CHAN\"+str(channel),'utf-8'))\n",
    "\n",
    "    global data\n",
    "    data=struct.unpack(\"B\"*len(raw_data),raw_data)\n",
    "\n",
    "    #greeing rid of meta-data\n",
    "    data=data[20:-1]\n",
    "\n",
    "    #taking caring of Rigole craziness!\n",
    "    data=(255-np.array(data))*volt_scale/25\n",
    "\n",
    "    print('number of samples:%f'%len(data))\n",
    "    total_acq_time=len(data)/samp_rate\n",
    "    global omega\n",
    "    omega=np.arange(0,len(data))*2*np.pi/total_acq_time\n",
    "    print (\"min freq(precision): %f\"%(omega[1]/2/np.pi))\n",
    "    print (\"max freq: %f\"%(omega[-1]/2/np.pi))\n",
    "    global n_max_plot\n",
    "    n_max_plot=np.int(max_plot_v/omega[1]*2*np.pi*1000)\n",
    "    global n_distance\n",
    "    n_distance=np.int(peak_distance/omega[1]*2*np.pi)+1\n",
    "    ham_mask=hamming(np.arange(0,len(data)),len(data))\n",
    "    f=np.fft.fft(data*ham_mask)/len(data)\n",
    "    f_max=np.abs(f[1:]).max()\n",
    "    global useful_f\n",
    "    useful_f=np.abs(f[2:n_max_plot])\n",
    "    global useful_o\n",
    "    useful_o=omega[2:n_max_plot]\n",
    "    peaks=find_peaks(useful_f,distance=n_distance)[0]                \n",
    "    plt.plot(useful_o/2/np.pi,useful_f*2) #*2 because we want \"peak\" voltages,sum of two + - freq components\n",
    "    plt.xlabel('frq')\n",
    "    plt.ylabel('Volt-p')\n",
    "    plt.grid()\n",
    "    #print(omega[peaks-1]/2/np.pi,useful_f[peaks]\n",
    "    # real_v estimates the peak signals \"total voltage\",that is a voltage which gives equal total power on a single frequency\n",
    "    real_v=useful_f[peaks]*0\n",
    "    for i in range(-n_distance//2-1,n_distance//2+1):\n",
    "        ind=peaks+i\n",
    "        ind[ind<0]=0\n",
    "        ind[ind>len(useful_f)-1]=len(useful_f)-1\n",
    "        real_v+= useful_f[ind]**2\n",
    "    real_v=2*np.sqrt(real_v)\n",
    "    V0=np.sqrt(0.001*Z0*2)\n",
    "    global peaks_frame\n",
    "    peaks_frame=pd.DataFrame(np.array([useful_o[peaks]/2/np.pi,useful_f\n",
    "                                   [peaks]*2,real_v,\n",
    "                                       20*np.log10(real_v/V0)]\n",
    "                                     ).T,columns=['freq(Hz)','strength','real_v','dBmW'])\n",
    "    peaks_frame=peaks_frame.sort_values(by=['strength'],ascending=False)\n",
    "    #print(peaks_frame[:10])\n",
    "    \n",
    "    peaks_frame['rel_freq']=peaks_frame['freq(Hz)']/peaks_frame['freq(Hz)'].iloc[0]\n",
    "    some_peaks=peaks_frame[:min(20,np.shape(peaks_frame)[0])]\n",
    "    \n",
    "    plt.plot(some_peaks['freq(Hz)'],some_peaks['strength'],'*')\n",
    "    print(some_peaks)\n",
    "    "
   ]
  },
  {
   "cell_type": "code",
   "execution_count": 119,
   "metadata": {},
   "outputs": [
    {
     "data": {
      "image/png": "[encoded data removed]",
      "text/plain": [
       "<Figure size 432x288 with 1 Axes>"
      ]
     },
     "metadata": {
      "needs_background": "light"
     },
     "output_type": "display_data"
    }
   ],
   "source": [
    "plt.plot(useful_o[40000:160000]/2/np.pi,useful_f[40000:160000]*2);plt.grid()"
   ]
  },
  {
   "cell_type": "code",
   "execution_count": 108,
   "metadata": {},
   "outputs": [],
   "source": [
    "peaks_frame.index=peaks_frame['freq(Hz)']"
   ]
  },
  {
   "cell_type": "code",
   "execution_count": 159,
   "metadata": {},
   "outputs": [
    {
     "data": {
      "application/vnd.jupyter.widget-view+json": {
       "model_id": "7539596320044a96aaa15c73f59041a0",
       "version_major": 2,
       "version_minor": 0
      },
      "text/plain": [
       "interactive(children=(IntSlider(value=10, description='ind', max=20), Dropdown(description='width', options=(2…"
      ]
     },
     "metadata": {},
     "output_type": "display_data"
    }
   ],
   "source": [
    "\"\"\"peak doctor\"\"\"\n",
    "from scipy.optimize import curve_fit\n",
    "def lorenz(x,x0,sig,a):\n",
    "    #return a*sig**2/((x-x0)**2+sig**2)\n",
    "    return a*np.exp(-(x-x0)**2/2/sig**2)\n",
    "\n",
    "@interact_manual\n",
    "def peak_doctor(ind=(0,20),width=[2,10,30,100,300,1000,3000,10000,30000]):\n",
    "    \n",
    "    peak=peaks_frame.iloc[ind]\n",
    "    del_f=omega[1]/2/np.pi\n",
    "    ind_peak=np.int(peak['freq(Hz)']//del_f-2)\n",
    "    ind_begin=np.int(max(0,ind_peak-width//del_f-1))\n",
    "    ind_end=np.int(min(ind_peak+width//del_f+1,len(useful_o)-1))\n",
    "    w=useful_o[ind_begin:ind_end]\n",
    "    spd=useful_f[ind_begin:ind_end]**2\n",
    "    plt.bar(useful_o[ind_begin:ind_end]/2/np.pi,useful_f[ind_begin:ind_end],color='grey')\n",
    "    plt.grid()\n",
    "    w2=np.linspace(w[0],w[-1],101)\n",
    "    lorenz0=lorenz(w2,w[len(w)//2],10*del_f,spd[len(spd)//2]/2)\n",
    "    #plt.plot(w2/np.pi/2,np.sqrt(lorenz0),label=\"guessed\",color='orange')\n",
    "    param=curve_fit(lorenz,w,spd,[w[len(w)//2],2*del_f,spd[len(spd)//2]/2],maxfev=10000)\n",
    "    lorenz2=lorenz(w2,*param[0])\n",
    "    plt.plot(w2/np.pi/2,np.sqrt(lorenz2),label=\"guessed\",color='red')\n",
    "    print(param[0][0]/np.pi/2,param[0][1]/np.pi/2)\n",
    "    return peaks_frame.iloc[ind]"
   ]
  },
  {
   "cell_type": "code",
   "execution_count": null,
   "metadata": {},
   "outputs": [],
   "source": []
  }
 ],
 "metadata": {
  "kernelspec": {
   "display_name": "Python 3",
   "language": "python",
   "name": "python3"
  },
  "language_info": {
   "codemirror_mode": {
    "name": "ipython",
    "version": 3
   },
   "file_extension": ".py",
   "mimetype": "text/x-python",
   "name": "python",
   "nbconvert_exporter": "python",
   "pygments_lexer": "ipython3",
   "version": "3.5.3"
  }
 },
 "nbformat": 4,
 "nbformat_minor": 2
}
