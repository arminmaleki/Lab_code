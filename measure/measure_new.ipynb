{
 "cells": [
  {
   "cell_type": "code",
   "execution_count": 83,
   "metadata": {},
   "outputs": [],
   "source": [
    "import numpy as np\n",
    "import pandas as pd\n",
    "import usbtmc\n",
    "from matplotlib import pyplot as plt\n",
    "import struct\n",
    "import time\n",
    "from scipy.signal import find_peaks\n",
    "from scipy.optimize import curve_fit\n",
    "\n",
    "class Rigol:\n",
    "    \"\"\"manages rigol oscilloscope\"\"\"\n",
    "    def __init__(self):\n",
    "         self.instr=usbtmc.Instrument(6833,1416)\n",
    "         print(self.instr.ask(\"*IDN?\"))\n",
    "         print(self.instr.ask(\":CHAN1:MEMD?\"))\n",
    "\n",
    "    def  retrieve(self,channel=1):\n",
    "           self.instr.ask(\":STOP\",wait_reply=False)\n",
    "           self.sample_rate=np.float(self.instr.ask(':ACQ:SAMP?'))\n",
    "           print('Sample rate %f'%self.sample_rate)\n",
    "           time.sleep(0.1)\n",
    "           self.volt_scale=np.float(self.instr.ask(':CHAN'+str(channel)+':SCAL?'))\n",
    "           print('Voltage scale is %f'%self.volt_scale)\n",
    "           time.sleep(2.0)\n",
    "           # for some strange reasons we are better of if we :RUN first!\n",
    "           self.instr.ask(\":RUN\",wait_reply=False)\n",
    "           raw_data=self.instr.ask_raw(bytes(\":WAV:DATA? CHAN\"+str(channel),'utf-8'))\n",
    "           self.data=struct.unpack(\"B\"*len(raw_data),raw_data)\n",
    "           #getteing rid of meta-data\n",
    "           self.data=self.data[20:-1]\n",
    "           #taking caring of Rigole craziness!\n",
    "           self.data=(255-np.array(self.data))*self.volt_scale/25\n",
    "      \n",
    "class Spectrum:\n",
    "    \"\"\"Manages spectrum data\"\"\"\n",
    "    def __init__(self,data=[],sample_rate=1.0,max_freq=-1,peak_distance=0,file_name='spec_default',from_file=False):\n",
    "        if (not from_file):\n",
    "            self.sample_rate=sample_rate\n",
    "            self.total_acq_time=len(data)/sample_rate\n",
    "            #self.freq is the frequenct mesh\n",
    "            self.freq=np.arange(0,len(data))/self.total_acq_time\n",
    "            print (\"min freq(precision): %f\"%(self.freq[1]))\n",
    "            self.min_freq=self.freq[1]\n",
    "            print (\"max freq: %f\"%(self.freq[-1]))\n",
    "            if (max_freq>0):\n",
    "                self.n_max=np.int(max_freq/self.freq[1])\n",
    "                self.max_freq=self.freq[self.n_max]            \n",
    "            else:\n",
    "                self.n_max=len(self.freq)\n",
    "                self.max_freq=self.freq[-1]\n",
    "            print(\"n_max %f\"%self.n_max)\n",
    "            print(\"max_freq %f\"%self.max_freq)\n",
    "            ham_mask=hamming(np.arange(0,len(data)),len(data))\n",
    "            self.spec=np.fft.fft(data*ham_mask)/len(data)\n",
    "            self.spec=np.abs(self.spec[2:self.n_max])\n",
    "            self.freq=self.freq[2:self.n_max]\n",
    "            to_file=pd.DataFrame(np.array([self.freq,self.spec*2]).T,columns=['freq(Hz)','voltage'])\n",
    "            to_file.to_csv(file_name+'.csv')\n",
    "        else:\n",
    "            from_file=pd.read_csv(file_name+'.csv')\n",
    "            self.spec=from_file['voltage'].values/2\n",
    "            self.freq=from_file['freq(Hz)'].values\n",
    "            self.min_freq=self.freq[1]-self.freq[0]\n",
    "            self.sample_rate=1.0/self.min_freq\n",
    "            self.n_max=len(self.freq)\n",
    "            self.max_freq=self.freq[-1]\n",
    "            \n",
    "        if (peak_distance>0):\n",
    "            n_distance=np.int(peak_distance/self.min_freq)+1\n",
    "            print(n_distance)\n",
    "            self.peaks=find_peaks(self.spec,distance=n_distance)[0]\n",
    "        \n",
    "            real_v=self.spec[self.peaks]*0\n",
    "            for i in range(-n_distance//2-1,n_distance//2+1):\n",
    "                ind=self.peaks+i\n",
    "                ind[ind<0]=0\n",
    "                ind[ind>len(self.spec)-1]=len(self.spec)-1\n",
    "                real_v+= self.spec[ind]**2\n",
    "            real_v=2*np.sqrt(real_v)\n",
    "            V0=np.sqrt(0.001*50.0*2)\n",
    "            self.peaks_frame=pd.DataFrame(np.array([self.freq[self.peaks],self.spec\n",
    "                                   [self.peaks]*2,real_v,\n",
    "                                       20*np.log10(real_v/V0)]\n",
    "                                     ).T,columns=['freq(Hz)','strength','real_v','dBmW'])\n",
    "            self.peaks_frame=self.peaks_frame.sort_values(by=['real_v'],ascending=False)\n",
    "            self.peaks_frame['rel_freq']=self.peaks_frame['freq(Hz)']/self.peaks_frame['freq(Hz)'].iloc[0]\n",
    "            self.no_peaks=False\n",
    "        else:\n",
    "            self.no_peaks=True\n",
    "    \n",
    "        self.plot()\n",
    "    def plot(self,output='spec_default.png',min_freq=-1,max_freq=-1):\n",
    "        if (min_freq>=0 and max_freq>=0):\n",
    "            freq=self.freq[np.logical_and((self.freq>=min_freq) , (self.freq<=max_freq))]\n",
    "            spec=self.spec[np.logical_and((self.freq>=min_freq) , (self.freq<=max_freq))]\n",
    "        else:\n",
    "            freq=self.freq\n",
    "            spec=self.spec\n",
    "            \n",
    "        plt.plot(freq,spec*2) #*2 because we want \"peak\" voltages,sum of two + - freq components\n",
    "        plt.xlabel('freq')\n",
    "        plt.ylabel('Volt-p')\n",
    "        plt.grid()\n",
    "        if (not self.no_peaks):\n",
    "            some_peaks=self.peaks_frame[:min(20,np.shape(self.peaks_frame)[0])]\n",
    "            if (min_freq>=0 and max_freq>=0):\n",
    "                some_peaks=some_peaks.loc[np.logical_and((some_peaks['freq(Hz)']>=min_freq), (some_peaks['freq(Hz)']\n",
    "                                                                                  <=max_freq))]\n",
    "                \n",
    "            plt.plot(some_peaks['freq(Hz)'],some_peaks['strength'],'*')\n",
    "        plt.savefig(output)\n",
    "    \n",
    "    def optimize_peak(self,width,ind=0,plot=True):\n",
    "        peak=self.peaks_frame.iloc[ind]\n",
    "        ind_peak=np.int(peak['freq(Hz)']//self.min_freq-2)\n",
    "        ind_begin=np.int(max(0,ind_peak-width//self.min_freq-2))\n",
    "        ind_end=np.int(min(ind_peak+width//self.min_freq+1-2,len(self.freq)-1))\n",
    "        w=self.freq[ind_begin:ind_end]\n",
    "        spd=self.spec[ind_begin:ind_end]**2\n",
    "        \n",
    "        \n",
    "        #lorenz0=lorenz(w2,w[len(w)//2],10*self.min_freq,spd[len(spd)//2]/2)\n",
    "        #plt.plot(w2/np.pi/2,np.sqrt(lorenz0),label=\"guessed\",color='orange')\n",
    "        param=curve_fit(lorenz,w,spd,[w[len(w)//2],2*self.min_freq,spd[len(spd)//2]/2],maxfev=10000)\n",
    "        if (plot):\n",
    "            w2=np.linspace(w[0],w[-1],101)\n",
    "            lorenz2=lorenz(w2,*param[0])\n",
    "            plt.bar(self.freq[ind_begin:ind_end],self.spec[ind_begin:ind_end],color='grey')\n",
    "            plt.grid()\n",
    "            plt.plot(w2,np.sqrt(lorenz2),label=\"guessed\",color='red')\n",
    "        out=pd.Series([param[0][0],param[0][1]],index=['freq(Hz)','width'])\n",
    "        print(param[0][0],param[0][1])\n",
    "        return out\n",
    "    \n",
    "    def optimize(self,width,number=10):\n",
    "        self.opt_peak=self.peaks_frame[:number]\n",
    "        for i in range(0,number):\n",
    "            s=self.optimize_peak(width,i,plot=False)\n",
    "            \n",
    "            self.opt_peak.iloc[i]['freq(Hz)']=s['freq(Hz)']\n",
    "            self.opt_peak.iloc[i]['width']=s['width']\n",
    "        for i in range(0,number):\n",
    "            self.opt_peak.iloc[i]['rel_freq']=self.opt_peak.iloc[i]['freq(Hz)']/self.opt_peak.iloc[0]['freq(Hz)']\n",
    "                                \n",
    "        return self.opt_peak    \n",
    "    \n",
    "    \n",
    "\n",
    "\n",
    "def hamming(n,L):\n",
    "    return 0.54-0.46*np.cos(2*np.pi*n/(L-1))\n",
    "\n",
    "def lorenz(x,x0,sig,a):\n",
    "    #return a*sig**2/((x-x0)**2+sig**2)\n",
    "    return a*np.exp(-(x-x0)**2/2/sig**2)"
   ]
  },
  {
   "cell_type": "code",
   "execution_count": 2,
   "metadata": {},
   "outputs": [
    {
     "name": "stdout",
     "output_type": "stream",
     "text": [
      "Rigol Technologies,DS1102E,DS1ET194510708,00.04.02.01.00\n",
      "745472\n"
     ]
    }
   ],
   "source": [
    "instr=Rigol()"
   ]
  },
  {
   "cell_type": "code",
   "execution_count": 94,
   "metadata": {},
   "outputs": [
    {
     "name": "stdout",
     "output_type": "stream",
     "text": [
      "Sample rate 436906.656250\n",
      "Voltage scale is 0.050000\n"
     ]
    }
   ],
   "source": [
    "instr.retrieve()"
   ]
  },
  {
   "cell_type": "code",
   "execution_count": 95,
   "metadata": {},
   "outputs": [
    {
     "name": "stdout",
     "output_type": "stream",
     "text": [
      "1048555\n",
      "min freq(precision): 0.416675\n",
      "max freq: 436906.239575\n",
      "n_max 4799.000000\n",
      "max_freq 1999.623332\n",
      "24\n"
     ]
    },
    {
     "data": {
      "image/png": "[encoded data removed]",
      "text/plain": [
       "<Figure size 432x288 with 1 Axes>"
      ]
     },
     "metadata": {
      "needs_background": "light"
     },
     "output_type": "display_data"
    }
   ],
   "source": [
    "print(len(instr.data))\n",
    "spec=Spectrum(instr.data,instr.sample_rate,2000.0,10)"
   ]
  },
  {
   "cell_type": "code",
   "execution_count": 92,
   "metadata": {},
   "outputs": [
    {
     "name": "stdout",
     "output_type": "stream",
     "text": [
      "48\n"
     ]
    },
    {
     "data": {
      "image/png": "[encoded data removed]",
      "text/plain": [
       "<Figure size 432x288 with 1 Axes>"
      ]
     },
     "metadata": {
      "needs_background": "light"
     },
     "output_type": "display_data"
    }
   ],
   "source": [
    "spec2=Spectrum(peak_distance=20,from_file=True)"
   ]
  },
  {
   "cell_type": "code",
   "execution_count": 89,
   "metadata": {},
   "outputs": [
    {
     "data": {
      "image/png": "[encoded data removed]",
      "text/plain": [
       "<Figure size 432x288 with 1 Axes>"
      ]
     },
     "metadata": {
      "needs_background": "light"
     },
     "output_type": "display_data"
    }
   ],
   "source": [
    "spec2.plot(min_freq=30,max_freq=50)"
   ]
  },
  {
   "cell_type": "code",
   "execution_count": 48,
   "metadata": {},
   "outputs": [
    {
     "data": {
      "text/plain": [
       "0.4166750015497519"
      ]
     },
     "execution_count": 48,
     "metadata": {},
     "output_type": "execute_result"
    }
   ],
   "source": [
    "spec2.min_freq"
   ]
  },
  {
   "cell_type": "code",
   "execution_count": 93,
   "metadata": {},
   "outputs": [
    {
     "name": "stdout",
     "output_type": "stream",
     "text": [
      "149.33098385621489 -0.21871973042788959\n"
     ]
    },
    {
     "data": {
      "text/plain": [
       "freq(Hz)    149.330984\n",
       "width        -0.218720\n",
       "dtype: float64"
      ]
     },
     "execution_count": 93,
     "metadata": {},
     "output_type": "execute_result"
    },
    {
     "data": {
      "image/png": "[encoded data removed]",
      "text/plain": [
       "<Figure size 432x288 with 1 Axes>"
      ]
     },
     "metadata": {
      "needs_background": "light"
     },
     "output_type": "display_data"
    }
   ],
   "source": [
    "spec2.optimize_peak(width=5,ind=2)"
   ]
  },
  {
   "cell_type": "code",
   "execution_count": 86,
   "metadata": {},
   "outputs": [
    {
     "data": {
      "text/html": [
       "<div>\n",
       "<style scoped>\n",
       "    .dataframe tbody tr th:only-of-type {\n",
       "        vertical-align: middle;\n",
       "    }\n",
       "\n",
       "    .dataframe tbody tr th {\n",
       "        vertical-align: top;\n",
       "    }\n",
       "\n",
       "    .dataframe thead th {\n",
       "        text-align: right;\n",
       "    }\n",
       "</style>\n",
       "<table border=\"1\" class=\"dataframe\">\n",
       "  <thead>\n",
       "    <tr style=\"text-align: right;\">\n",
       "      <th></th>\n",
       "      <th>freq(Hz)</th>\n",
       "      <th>strength</th>\n",
       "      <th>real_v</th>\n",
       "      <th>dBmW</th>\n",
       "      <th>rel_freq</th>\n",
       "    </tr>\n",
       "  </thead>\n",
       "  <tbody>\n",
       "    <tr>\n",
       "      <th>4</th>\n",
       "      <td>49.584325</td>\n",
       "      <td>0.044660</td>\n",
       "      <td>0.061785</td>\n",
       "      <td>-14.182366</td>\n",
       "      <td>1.000000</td>\n",
       "    </tr>\n",
       "    <tr>\n",
       "      <th>20</th>\n",
       "      <td>248.754976</td>\n",
       "      <td>0.004598</td>\n",
       "      <td>0.005771</td>\n",
       "      <td>-34.774717</td>\n",
       "      <td>5.016807</td>\n",
       "    </tr>\n",
       "    <tr>\n",
       "      <th>12</th>\n",
       "      <td>149.169651</td>\n",
       "      <td>0.003579</td>\n",
       "      <td>0.004684</td>\n",
       "      <td>-36.587149</td>\n",
       "      <td>3.008403</td>\n",
       "    </tr>\n",
       "    <tr>\n",
       "      <th>35</th>\n",
       "      <td>447.925627</td>\n",
       "      <td>0.002365</td>\n",
       "      <td>0.002813</td>\n",
       "      <td>-41.017784</td>\n",
       "      <td>9.033613</td>\n",
       "    </tr>\n",
       "    <tr>\n",
       "      <th>43</th>\n",
       "      <td>547.510952</td>\n",
       "      <td>0.001314</td>\n",
       "      <td>0.001547</td>\n",
       "      <td>-46.210857</td>\n",
       "      <td>11.042017</td>\n",
       "    </tr>\n",
       "    <tr>\n",
       "      <th>56</th>\n",
       "      <td>746.681603</td>\n",
       "      <td>0.001037</td>\n",
       "      <td>0.001237</td>\n",
       "      <td>-48.151591</td>\n",
       "      <td>15.058824</td>\n",
       "    </tr>\n",
       "    <tr>\n",
       "      <th>27</th>\n",
       "      <td>348.340301</td>\n",
       "      <td>0.000711</td>\n",
       "      <td>0.000861</td>\n",
       "      <td>-51.301246</td>\n",
       "      <td>7.025210</td>\n",
       "    </tr>\n",
       "    <tr>\n",
       "      <th>50</th>\n",
       "      <td>647.096277</td>\n",
       "      <td>0.000594</td>\n",
       "      <td>0.000692</td>\n",
       "      <td>-53.199376</td>\n",
       "      <td>13.050420</td>\n",
       "    </tr>\n",
       "    <tr>\n",
       "      <th>3</th>\n",
       "      <td>39.584125</td>\n",
       "      <td>0.000112</td>\n",
       "      <td>0.000617</td>\n",
       "      <td>-54.201079</td>\n",
       "      <td>0.798319</td>\n",
       "    </tr>\n",
       "    <tr>\n",
       "      <th>5</th>\n",
       "      <td>60.001200</td>\n",
       "      <td>0.000107</td>\n",
       "      <td>0.000602</td>\n",
       "      <td>-54.408433</td>\n",
       "      <td>1.210084</td>\n",
       "    </tr>\n",
       "  </tbody>\n",
       "</table>\n",
       "</div>"
      ],
      "text/plain": [
       "      freq(Hz)  strength    real_v       dBmW   rel_freq\n",
       "4    49.584325  0.044660  0.061785 -14.182366   1.000000\n",
       "20  248.754976  0.004598  0.005771 -34.774717   5.016807\n",
       "12  149.169651  0.003579  0.004684 -36.587149   3.008403\n",
       "35  447.925627  0.002365  0.002813 -41.017784   9.033613\n",
       "43  547.510952  0.001314  0.001547 -46.210857  11.042017\n",
       "56  746.681603  0.001037  0.001237 -48.151591  15.058824\n",
       "27  348.340301  0.000711  0.000861 -51.301246   7.025210\n",
       "50  647.096277  0.000594  0.000692 -53.199376  13.050420\n",
       "3    39.584125  0.000112  0.000617 -54.201079   0.798319\n",
       "5    60.001200  0.000107  0.000602 -54.408433   1.210084"
      ]
     },
     "execution_count": 86,
     "metadata": {},
     "output_type": "execute_result"
    }
   ],
   "source": [
    "spec2.peaks_frame[:10]"
   ]
  },
  {
   "cell_type": "code",
   "execution_count": 91,
   "metadata": {},
   "outputs": [
    {
     "name": "stdout",
     "output_type": "stream",
     "text": [
      "49.77842162035862 0.21095245092553383\n",
      "248.88353248752313 0.22294537065304748\n",
      "149.33098385621489 -0.21871973042788959\n",
      "447.97996222482567 -0.2272867329403705\n",
      "547.5140292734723 0.22770936346999476\n"
     ]
    },
    {
     "data": {
      "text/html": [
       "<div>\n",
       "<style scoped>\n",
       "    .dataframe tbody tr th:only-of-type {\n",
       "        vertical-align: middle;\n",
       "    }\n",
       "\n",
       "    .dataframe tbody tr th {\n",
       "        vertical-align: top;\n",
       "    }\n",
       "\n",
       "    .dataframe thead th {\n",
       "        text-align: right;\n",
       "    }\n",
       "</style>\n",
       "<table border=\"1\" class=\"dataframe\">\n",
       "  <thead>\n",
       "    <tr style=\"text-align: right;\">\n",
       "      <th></th>\n",
       "      <th>freq(Hz)</th>\n",
       "      <th>strength</th>\n",
       "      <th>real_v</th>\n",
       "      <th>dBmW</th>\n",
       "      <th>rel_freq</th>\n",
       "    </tr>\n",
       "  </thead>\n",
       "  <tbody>\n",
       "    <tr>\n",
       "      <th>4</th>\n",
       "      <td>49.778422</td>\n",
       "      <td>0.044660</td>\n",
       "      <td>0.061785</td>\n",
       "      <td>-14.182366</td>\n",
       "      <td>1.000000</td>\n",
       "    </tr>\n",
       "    <tr>\n",
       "      <th>20</th>\n",
       "      <td>248.883532</td>\n",
       "      <td>0.004598</td>\n",
       "      <td>0.005771</td>\n",
       "      <td>-34.774717</td>\n",
       "      <td>4.999828</td>\n",
       "    </tr>\n",
       "    <tr>\n",
       "      <th>12</th>\n",
       "      <td>149.330984</td>\n",
       "      <td>0.003579</td>\n",
       "      <td>0.004684</td>\n",
       "      <td>-36.587149</td>\n",
       "      <td>2.999914</td>\n",
       "    </tr>\n",
       "    <tr>\n",
       "      <th>35</th>\n",
       "      <td>447.979962</td>\n",
       "      <td>0.002365</td>\n",
       "      <td>0.002813</td>\n",
       "      <td>-41.017784</td>\n",
       "      <td>8.999481</td>\n",
       "    </tr>\n",
       "    <tr>\n",
       "      <th>43</th>\n",
       "      <td>547.514029</td>\n",
       "      <td>0.001314</td>\n",
       "      <td>0.001547</td>\n",
       "      <td>-46.210857</td>\n",
       "      <td>10.999024</td>\n",
       "    </tr>\n",
       "  </tbody>\n",
       "</table>\n",
       "</div>"
      ],
      "text/plain": [
       "      freq(Hz)  strength    real_v       dBmW   rel_freq\n",
       "4    49.778422  0.044660  0.061785 -14.182366   1.000000\n",
       "20  248.883532  0.004598  0.005771 -34.774717   4.999828\n",
       "12  149.330984  0.003579  0.004684 -36.587149   2.999914\n",
       "35  447.979962  0.002365  0.002813 -41.017784   8.999481\n",
       "43  547.514029  0.001314  0.001547 -46.210857  10.999024"
      ]
     },
     "execution_count": 91,
     "metadata": {},
     "output_type": "execute_result"
    }
   ],
   "source": [
    "spec2.optimize(5,5)"
   ]
  },
  {
   "cell_type": "code",
   "execution_count": 96,
   "metadata": {},
   "outputs": [
    {
     "data": {
      "text/html": [
       "<div>\n",
       "<style scoped>\n",
       "    .dataframe tbody tr th:only-of-type {\n",
       "        vertical-align: middle;\n",
       "    }\n",
       "\n",
       "    .dataframe tbody tr th {\n",
       "        vertical-align: top;\n",
       "    }\n",
       "\n",
       "    .dataframe thead th {\n",
       "        text-align: right;\n",
       "    }\n",
       "</style>\n",
       "<table border=\"1\" class=\"dataframe\">\n",
       "  <thead>\n",
       "    <tr style=\"text-align: right;\">\n",
       "      <th></th>\n",
       "      <th>freq(Hz)</th>\n",
       "      <th>strength</th>\n",
       "      <th>real_v</th>\n",
       "      <th>dBmW</th>\n",
       "      <th>rel_freq</th>\n",
       "    </tr>\n",
       "  </thead>\n",
       "  <tbody>\n",
       "    <tr>\n",
       "      <th>4</th>\n",
       "      <td>50.001000</td>\n",
       "      <td>0.045895</td>\n",
       "      <td>0.062878</td>\n",
       "      <td>-14.029980</td>\n",
       "      <td>1.000000</td>\n",
       "    </tr>\n",
       "    <tr>\n",
       "      <th>20</th>\n",
       "      <td>249.171651</td>\n",
       "      <td>0.003171</td>\n",
       "      <td>0.004183</td>\n",
       "      <td>-37.570469</td>\n",
       "      <td>4.983333</td>\n",
       "    </tr>\n",
       "    <tr>\n",
       "      <th>12</th>\n",
       "      <td>149.586326</td>\n",
       "      <td>0.002380</td>\n",
       "      <td>0.003116</td>\n",
       "      <td>-40.128463</td>\n",
       "      <td>2.991667</td>\n",
       "    </tr>\n",
       "    <tr>\n",
       "      <th>28</th>\n",
       "      <td>348.756976</td>\n",
       "      <td>0.002147</td>\n",
       "      <td>0.002894</td>\n",
       "      <td>-40.770942</td>\n",
       "      <td>6.975000</td>\n",
       "    </tr>\n",
       "    <tr>\n",
       "      <th>36</th>\n",
       "      <td>448.342302</td>\n",
       "      <td>0.001205</td>\n",
       "      <td>0.001747</td>\n",
       "      <td>-45.155567</td>\n",
       "      <td>8.966667</td>\n",
       "    </tr>\n",
       "  </tbody>\n",
       "</table>\n",
       "</div>"
      ],
      "text/plain": [
       "      freq(Hz)  strength    real_v       dBmW  rel_freq\n",
       "4    50.001000  0.045895  0.062878 -14.029980  1.000000\n",
       "20  249.171651  0.003171  0.004183 -37.570469  4.983333\n",
       "12  149.586326  0.002380  0.003116 -40.128463  2.991667\n",
       "28  348.756976  0.002147  0.002894 -40.770942  6.975000\n",
       "36  448.342302  0.001205  0.001747 -45.155567  8.966667"
      ]
     },
     "execution_count": 96,
     "metadata": {},
     "output_type": "execute_result"
    }
   ],
   "source": [
    "spec.peaks_frame[:5]"
   ]
  },
  {
   "cell_type": "code",
   "execution_count": 97,
   "metadata": {},
   "outputs": [
    {
     "name": "stdout",
     "output_type": "stream",
     "text": [
      "49.81269606558811 0.2143267351043612\n",
      "249.10703787339614 0.27369748215270495\n",
      "149.44992032265202 0.24134173503633982\n",
      "348.78026452493583 0.2876793076392727\n",
      "448.4134186982472 -0.3166292609224274\n"
     ]
    },
    {
     "data": {
      "text/html": [
       "<div>\n",
       "<style scoped>\n",
       "    .dataframe tbody tr th:only-of-type {\n",
       "        vertical-align: middle;\n",
       "    }\n",
       "\n",
       "    .dataframe tbody tr th {\n",
       "        vertical-align: top;\n",
       "    }\n",
       "\n",
       "    .dataframe thead th {\n",
       "        text-align: right;\n",
       "    }\n",
       "</style>\n",
       "<table border=\"1\" class=\"dataframe\">\n",
       "  <thead>\n",
       "    <tr style=\"text-align: right;\">\n",
       "      <th></th>\n",
       "      <th>freq(Hz)</th>\n",
       "      <th>strength</th>\n",
       "      <th>real_v</th>\n",
       "      <th>dBmW</th>\n",
       "      <th>rel_freq</th>\n",
       "    </tr>\n",
       "  </thead>\n",
       "  <tbody>\n",
       "    <tr>\n",
       "      <th>4</th>\n",
       "      <td>49.812696</td>\n",
       "      <td>0.045895</td>\n",
       "      <td>0.062878</td>\n",
       "      <td>-14.029980</td>\n",
       "      <td>1.000000</td>\n",
       "    </tr>\n",
       "    <tr>\n",
       "      <th>20</th>\n",
       "      <td>249.107038</td>\n",
       "      <td>0.003171</td>\n",
       "      <td>0.004183</td>\n",
       "      <td>-37.570469</td>\n",
       "      <td>5.000874</td>\n",
       "    </tr>\n",
       "    <tr>\n",
       "      <th>12</th>\n",
       "      <td>149.449920</td>\n",
       "      <td>0.002380</td>\n",
       "      <td>0.003116</td>\n",
       "      <td>-40.128463</td>\n",
       "      <td>3.000238</td>\n",
       "    </tr>\n",
       "    <tr>\n",
       "      <th>28</th>\n",
       "      <td>348.780265</td>\n",
       "      <td>0.002147</td>\n",
       "      <td>0.002894</td>\n",
       "      <td>-40.770942</td>\n",
       "      <td>7.001835</td>\n",
       "    </tr>\n",
       "    <tr>\n",
       "      <th>36</th>\n",
       "      <td>448.413419</td>\n",
       "      <td>0.001205</td>\n",
       "      <td>0.001747</td>\n",
       "      <td>-45.155567</td>\n",
       "      <td>9.001991</td>\n",
       "    </tr>\n",
       "  </tbody>\n",
       "</table>\n",
       "</div>"
      ],
      "text/plain": [
       "      freq(Hz)  strength    real_v       dBmW  rel_freq\n",
       "4    49.812696  0.045895  0.062878 -14.029980  1.000000\n",
       "20  249.107038  0.003171  0.004183 -37.570469  5.000874\n",
       "12  149.449920  0.002380  0.003116 -40.128463  3.000238\n",
       "28  348.780265  0.002147  0.002894 -40.770942  7.001835\n",
       "36  448.413419  0.001205  0.001747 -45.155567  9.001991"
      ]
     },
     "execution_count": 97,
     "metadata": {},
     "output_type": "execute_result"
    }
   ],
   "source": [
    "spec.optimize(5,5)"
   ]
  },
  {
   "cell_type": "code",
   "execution_count": null,
   "metadata": {},
   "outputs": [],
   "source": []
  }
 ],
 "metadata": {
  "kernelspec": {
   "display_name": "Python 3",
   "language": "python",
   "name": "python3"
  },
  "language_info": {
   "codemirror_mode": {
    "name": "ipython",
    "version": 3
   },
   "file_extension": ".py",
   "mimetype": "text/x-python",
   "name": "python",
   "nbconvert_exporter": "python",
   "pygments_lexer": "ipython3",
   "version": "3.5.3"
  }
 },
 "nbformat": 4,
 "nbformat_minor": 2
}
